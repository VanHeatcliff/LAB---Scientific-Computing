{
  "nbformat": 4,
  "nbformat_minor": 0,
  "metadata": {
    "colab": {
      "provenance": [],
      "authorship_tag": "ABX9TyOTxd14KzQKbZpsJ2HghS6D",
      "include_colab_link": true
    },
    "kernelspec": {
      "name": "python3",
      "display_name": "Python 3"
    },
    "language_info": {
      "name": "python"
    }
  },
  "cells": [
    {
      "cell_type": "markdown",
      "metadata": {
        "id": "view-in-github",
        "colab_type": "text"
      },
      "source": [
        "<a href=\"https://colab.research.google.com/github/VanHeatcliff/LAB---Scientific-Computing/blob/main/SC_Sesi2.ipynb\" target=\"_parent\"><img src=\"https://colab.research.google.com/assets/colab-badge.svg\" alt=\"Open In Colab\"/></a>"
      ]
    },
    {
      "cell_type": "code",
      "execution_count": null,
      "metadata": {
        "colab": {
          "base_uri": "https://localhost:8080/"
        },
        "id": "BsXYgzVanveE",
        "outputId": "671ac50c-505c-4f44-99dc-20046cc5570e"
      },
      "outputs": [
        {
          "output_type": "stream",
          "name": "stdout",
          "text": [
            "Matrix is diagonally domminant\n"
          ]
        }
      ],
      "source": [
        "import numpy as np\n",
        "a = [[8, 3, -3],\n",
        "    [-2, -8, 5],\n",
        "    [3, 5, 10]]\n",
        "\n",
        "diag = np.diag(np.abs(a))\n",
        "\n",
        "off_diag = np.sum(np.abs(a), axis=1) - diag\n",
        "if np.all(diag > off_diag):\n",
        "    print(\"Matrix is diagonally domminant\")\n",
        "else:\n",
        "    print(\"Matrix isn't diagonally domminant\")\n"
      ]
    },
    {
      "cell_type": "code",
      "source": [
        "x1 = 0\n",
        "x2 = 0\n",
        "x3 = 0\n",
        "epsilon = 0.01\n",
        "converged = False\n",
        "\n",
        "x_old = np.array([x1, x2, x3])"
      ],
      "metadata": {
        "id": "S7UhSevvoBnO"
      },
      "execution_count": null,
      "outputs": []
    },
    {
      "cell_type": "code",
      "source": [
        "from re import X\n",
        "print(\"Iteration Result\")\n",
        "print(\"k,   x1,      x2,     x3\")\n",
        "for k in range(1, 50):\n",
        "  x1 = (14-3*x2+3*x3)/8\n",
        "  x2 = (5+2*x1-5*x3)/(-8)\n",
        "  x3 = (-8-3*x1-5*x2)/(-10)\n",
        "\n",
        "  x = np.array([x1, x2, x3])\n",
        "  dx = np.sqrt(np.dot(x-x_old, x-x_old))\n",
        "\n",
        "  print(\"%d, %.4f, %.4f, %.4f\"%(k, x1, x2, x3))\n",
        "\n",
        "  if dx < epsilon:\n",
        "    converged = True\n",
        "    print(\"Converged!\")\n",
        "    break\n",
        "    x_old = x\n",
        "\n",
        "  if not converged:\n",
        "    print(\"Not converged, \")"
      ],
      "metadata": {
        "colab": {
          "base_uri": "https://localhost:8080/"
        },
        "id": "SgS8618Svnd0",
        "outputId": "bd0ff4eb-391a-4e36-8b4b-8908d8c638e2"
      },
      "execution_count": null,
      "outputs": [
        {
          "output_type": "stream",
          "name": "stdout",
          "text": [
            "Iteration Result\n",
            "k,   x1,      x2,     x3\n",
            "1, 2.3943, -0.3995, 1.3185\n",
            "Converged!\n"
          ]
        }
      ]
    },
    {
      "cell_type": "code",
      "source": [
        "A = np.array([[4, 3, -5],\n",
        "              [-2, -4, 5],\n",
        "              [8, 8, 0]])\n",
        "y = np.array([2, 5, -3])\n",
        "\n",
        "x = np.linalg.solve(A,y)\n",
        "print(x)"
      ],
      "metadata": {
        "colab": {
          "base_uri": "https://localhost:8080/"
        },
        "id": "WVgKmYPov2e-",
        "outputId": "5bbef4c0-5da7-48e5-f430-2860ef8ff1e0"
      },
      "execution_count": null,
      "outputs": [
        {
          "output_type": "stream",
          "name": "stdout",
          "text": [
            "[ 2.20833333 -2.58333333 -0.18333333]\n"
          ]
        }
      ]
    },
    {
      "cell_type": "code",
      "source": [
        "#matrix invers\n",
        "A_inv = np.linalg.inv(A)\n",
        "\n",
        "x = np.dot(A_inv, y)\n",
        "\n",
        "print(x)"
      ],
      "metadata": {
        "colab": {
          "base_uri": "https://localhost:8080/"
        },
        "id": "2etS5AlIz1ul",
        "outputId": "c9af5f3f-05b9-41eb-b37d-78757aa6f8c3"
      },
      "execution_count": null,
      "outputs": [
        {
          "output_type": "stream",
          "name": "stdout",
          "text": [
            "[ 2.20833333 -2.58333333 -0.18333333]\n"
          ]
        }
      ]
    },
    {
      "cell_type": "code",
      "source": [
        "from scipy import optimize\n",
        "import matplotlib.pyplot as plt\n",
        "\n",
        "#generate x dan y\n",
        "x = np.linspace(0, 1, 101)\n",
        "y = 1 + x + x * np.ones(len(x))\n",
        "\n",
        "A = np.vstack([x, np.ones(len(x))]).T\n",
        "\n",
        "y - y[:, np.newaxis]\n",
        "\n",
        "alpha = np.dot((np.linalg.inv(np.dot(A.T, A))))"
      ],
      "metadata": {
        "colab": {
          "base_uri": "https://localhost:8080/",
          "height": 176
        },
        "id": "kj1LYnJD26Iq",
        "outputId": "b220bd1a-4d39-4565-836a-700c52626242"
      },
      "execution_count": null,
      "outputs": [
        {
          "output_type": "error",
          "ename": "TypeError",
          "evalue": "dot() missing 1 required positional argument: 'b'",
          "traceback": [
            "\u001b[0;31m---------------------------------------------------------------------------\u001b[0m",
            "\u001b[0;31mTypeError\u001b[0m                                 Traceback (most recent call last)",
            "\u001b[0;32m<ipython-input-37-f29a0fcf9dea>\u001b[0m in \u001b[0;36m<cell line: 0>\u001b[0;34m()\u001b[0m\n\u001b[1;32m     10\u001b[0m \u001b[0my\u001b[0m \u001b[0;34m-\u001b[0m \u001b[0my\u001b[0m\u001b[0;34m[\u001b[0m\u001b[0;34m:\u001b[0m\u001b[0;34m,\u001b[0m \u001b[0mnp\u001b[0m\u001b[0;34m.\u001b[0m\u001b[0mnewaxis\u001b[0m\u001b[0;34m]\u001b[0m\u001b[0;34m\u001b[0m\u001b[0;34m\u001b[0m\u001b[0m\n\u001b[1;32m     11\u001b[0m \u001b[0;34m\u001b[0m\u001b[0m\n\u001b[0;32m---> 12\u001b[0;31m \u001b[0malpha\u001b[0m \u001b[0;34m=\u001b[0m \u001b[0mnp\u001b[0m\u001b[0;34m.\u001b[0m\u001b[0mdot\u001b[0m\u001b[0;34m(\u001b[0m\u001b[0;34m(\u001b[0m\u001b[0mnp\u001b[0m\u001b[0;34m.\u001b[0m\u001b[0mlinalg\u001b[0m\u001b[0;34m.\u001b[0m\u001b[0minv\u001b[0m\u001b[0;34m(\u001b[0m\u001b[0mnp\u001b[0m\u001b[0;34m.\u001b[0m\u001b[0mdot\u001b[0m\u001b[0;34m(\u001b[0m\u001b[0mA\u001b[0m\u001b[0;34m.\u001b[0m\u001b[0mT\u001b[0m\u001b[0;34m,\u001b[0m \u001b[0mA\u001b[0m\u001b[0;34m)\u001b[0m\u001b[0;34m)\u001b[0m\u001b[0;34m)\u001b[0m\u001b[0;34m)\u001b[0m\u001b[0;34m\u001b[0m\u001b[0;34m\u001b[0m\u001b[0m\n\u001b[0m",
            "\u001b[0;31mTypeError\u001b[0m: dot() missing 1 required positional argument: 'b'"
          ]
        }
      ]
    },
    {
      "cell_type": "code",
      "source": [
        "pinv = np.dot(np.linalg.inv)"
      ],
      "metadata": {
        "id": "t2UUzGNV4XdC"
      },
      "execution_count": null,
      "outputs": []
    },
    {
      "cell_type": "code",
      "source": [
        "alpha = np.linalg.listql"
      ],
      "metadata": {
        "id": "EHaPL3uh4mO6"
      },
      "execution_count": null,
      "outputs": []
    },
    {
      "cell_type": "code",
      "source": [
        "x = np.linspace(0, 1, 101)\n",
        "y = 1 + x + x * np.ones(len(x))\n",
        "\n",
        "A = np.vstack([x, np.ones(len(x))]).T\n",
        "alpha = np.dot(np.linalg.inv(np.dot(A.T, A)), np.dot(A.T, y))\n",
        "\n",
        "print(alpha)"
      ],
      "metadata": {
        "colab": {
          "base_uri": "https://localhost:8080/"
        },
        "id": "MTTg7knC4tcZ",
        "outputId": "fdbb8a29-c84e-485d-b823-21024bc12222"
      },
      "execution_count": null,
      "outputs": [
        {
          "output_type": "stream",
          "name": "stdout",
          "text": [
            "[2. 1.]\n"
          ]
        }
      ]
    },
    {
      "cell_type": "code",
      "source": [
        "import matplotlib.pyplot as plt\n",
        "import numpy as np\n",
        "\n",
        "x = [1, 2, 3, 4 ,5 ,6, 7, 8, 8]\n",
        "y = [2, 5 ,3, 7, 3, 6, 9, 10, 2]\n",
        "\n",
        "x = np.array (x)\n",
        "y = np.array (y)\n",
        "\n",
        "plt.plot(x, y, 'ob')\n",
        "plt.plot(x, y, 'r--')\n",
        "\n",
        "plt.plot(x, 2* x +1, 'g')\n",
        "plt.title(\"Basic Platting\")\n",
        "plt.ylabel (\"y\")\n",
        "plt.xlabel (\"x\")"
      ],
      "metadata": {
        "colab": {
          "base_uri": "https://localhost:8080/",
          "height": 489
        },
        "id": "AIGSU5Xw6BZ8",
        "outputId": "61019caf-e3d6-4561-84b3-22a6659e9247"
      },
      "execution_count": 36,
      "outputs": [
        {
          "output_type": "execute_result",
          "data": {
            "text/plain": [
              "Text(0.5, 0, 'x')"
            ]
          },
          "metadata": {},
          "execution_count": 36
        },
        {
          "output_type": "display_data",
          "data": {
            "text/plain": [
              "<Figure size 640x480 with 1 Axes>"
            ],
            "image/png": "[encoded data removed]"
          },
          "metadata": {}
        }
      ]
    },
    {
      "cell_type": "markdown",
      "source": [
        "**TUGAS MODUL SESSION 2**"
      ],
      "metadata": {
        "id": "1f6eytR_1hJT"
      }
    },
    {
      "source": [
        "import numpy as np\n",
        "\n",
        "def gauss_seidel(A, b, x0, tol=0.001, max_iter=100):\n",
        "    n = len(b)\n",
        "    x = x0.copy()\n",
        "    for _ in range(max_iter):\n",
        "        x_new = x0.copy()\n",
        "        for i in range(n):\n",
        "            s1 = np.dot(A[i, :i], x_new[:i])\n",
        "            s2 = np.dot(A[i, i+1:], x[i+1:])\n",
        "            x_new[i] = (b[i] - s1 - s2) / A[i, i]\n",
        "        if np.linalg.norm(x_new - x) < tol:\n",
        "            return x_new\n",
        "        x = x_new\n",
        "    return x"
      ],
      "cell_type": "code",
      "metadata": {
        "id": "ckuW7c_CoDAM"
      },
      "execution_count": 12,
      "outputs": []
    },
    {
      "cell_type": "markdown",
      "source": [
        "Soal No 1"
      ],
      "metadata": {
        "id": "-cb7gdg0zxZ7"
      }
    },
    {
      "cell_type": "code",
      "source": [
        "# Soal 1\n",
        "A1 = np.array([[2, 3, -1],\n",
        "               [1, -1, 2],\n",
        "               [3, 2, 1]], dtype=float)\n",
        "b1 = np.array([10, 4, 14], dtype=float)\n",
        "x0_1 = np.array([5, 5, 5], dtype=float)\n",
        "\n",
        "x_gs_1 = gauss_seidel(A1, b1, x0_1)\n",
        "print(\"a. Hasil dengan Gauss-Seidel:\", x_gs_1)\n",
        "\n",
        "x_np_1 = np.linalg.solve(A1, b1)\n",
        "print(\"b. Hasil dengan NumPy:\", x_np_1)"
      ],
      "metadata": {
        "colab": {
          "base_uri": "https://localhost:8080/"
        },
        "id": "XgkD0rP3zq_B",
        "outputId": "c684a095-d676-4656-c44d-2e0f93b1e512"
      },
      "execution_count": 13,
      "outputs": [
        {
          "output_type": "stream",
          "name": "stdout",
          "text": [
            "Hasil dengan Gauss-Seidel: [-8.85379963e+93 -2.65613989e+94  7.96841967e+94]\n",
            "Hasil dengan NumPy: [0.65 4.15 3.75]\n"
          ]
        }
      ]
    },
    {
      "cell_type": "markdown",
      "source": [
        "Soal No 2"
      ],
      "metadata": {
        "id": "-2ci2DNPzmmF"
      }
    },
    {
      "cell_type": "code",
      "source": [
        "# Soal 2\n",
        "A2 = np.array([[3, -0.1, -0.2],\n",
        "               [0.1, 7, -0.3],\n",
        "               [0.3, -0.2, 10]], dtype=float)\n",
        "b2 = np.array([7.85, -19.3, 71.4], dtype=float)\n",
        "x0_2 = np.array([1, 2, 3], dtype=float)\n",
        "\n",
        "x_gs_2 = gauss_seidel(A2, b2, x0_2)\n",
        "print(\"a. Hasil dengan Gauss-Seidel:\", x_gs_2)\n",
        "\n",
        "x_np_2 = np.linalg.solve(A2, b2)\n",
        "print(\"b. Hasil dengan NumPy:\", x_np_2)"
      ],
      "metadata": {
        "id": "7Qz9TjnzldFb",
        "colab": {
          "base_uri": "https://localhost:8080/"
        },
        "outputId": "8933c2d6-6159-4da6-8f3a-e6caf6fd6286"
      },
      "execution_count": 6,
      "outputs": [
        {
          "output_type": "stream",
          "name": "stdout",
          "text": [
            "Hasil dengan Gauss-Seidel: [ 3.00000022 -2.50000002  6.99999999]\n",
            "Hasil dengan NumPy: [ 3.  -2.5  7. ]\n"
          ]
        }
      ]
    },
    {
      "cell_type": "markdown",
      "source": [
        "Soal No 3"
      ],
      "metadata": {
        "id": "ThkWSo8N0lCK"
      }
    },
    {
      "cell_type": "code",
      "source": [
        "import matplotlib.pyplot as plt\n",
        "\n",
        "X = np.array([5, 4, 6, 7, 5])\n",
        "Y = np.array([10, 8, 12, 14, 10])\n",
        "\n",
        "n = len(X)\n",
        "a = (n * np.sum(X * Y) - np.sum(X) * np.sum(Y)) / (n * np.sum(X**2) - np.sum(X)**2)\n",
        "b = (np.sum(Y) - a * np.sum(X)) / n\n",
        "\n",
        "print(\"a.\", a, b)"
      ],
      "metadata": {
        "colab": {
          "base_uri": "https://localhost:8080/"
        },
        "id": "KFID-Pst0olg",
        "outputId": "2ca5b27d-1dee-4926-d971-3911261d18d7"
      },
      "execution_count": 16,
      "outputs": [
        {
          "output_type": "stream",
          "name": "stdout",
          "text": [
            "a. 2.0 0.0\n"
          ]
        }
      ]
    },
    {
      "cell_type": "code",
      "source": [
        "plt.figure(figsize=(6, 4))\n",
        "plt.scatter(X, Y, color='blue', label='Data Points')\n",
        "\n",
        "x_line = np.linspace(min(X)-1, max(X)+1, 100)\n",
        "y_line = a * x_line + b\n",
        "plt.plot(x_line, y_line, color='red', label=f'Regresi: y = {a:.2f}x + {b:.2f}')\n",
        "\n",
        "plt.xlabel('X')\n",
        "plt.ylabel('Y')\n",
        "plt.title('b. Plot Hasil Regresi')\n",
        "plt.grid(True)"
      ],
      "metadata": {
        "colab": {
          "base_uri": "https://localhost:8080/",
          "height": 410
        },
        "id": "4zrY51gZ1vHh",
        "outputId": "0cf5b5cf-4508-4c2c-fa91-4a8ba01d8ac6"
      },
      "execution_count": 32,
      "outputs": [
        {
          "output_type": "display_data",
          "data": {
            "text/plain": [
              "<Figure size 600x400 with 1 Axes>"
            ],
            "image/png": "[encoded data removed]"
          },
          "metadata": {}
        }
      ]
    }
  ]
}
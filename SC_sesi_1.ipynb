{
  "nbformat": 4,
  "nbformat_minor": 0,
  "metadata": {
    "colab": {
      "provenance": [],
      "authorship_tag": "ABX9TyO7NuuBvToH5q/kRGVDb0Ie",
      "include_colab_link": true
    },
    "kernelspec": {
      "name": "python3",
      "display_name": "Python 3"
    },
    "language_info": {
      "name": "python"
    }
  },
  "cells": [
    {
      "cell_type": "markdown",
      "metadata": {
        "id": "view-in-github",
        "colab_type": "text"
      },
      "source": [
        "<a href=\"https://colab.research.google.com/github/VanHeatcliff/LAB---Scientific-Computing/blob/main/SC_sesi_1.ipynb\" target=\"_parent\"><img src=\"https://colab.research.google.com/assets/colab-badge.svg\" alt=\"Open In Colab\"/></a>"
      ]
    },
    {
      "cell_type": "code",
      "execution_count": null,
      "metadata": {
        "id": "C858R_xujBFI"
      },
      "outputs": [],
      "source": []
    },
    {
      "cell_type": "markdown",
      "source": [
        "Sesi 1"
      ],
      "metadata": {
        "id": "wzsgv9gPjQfi"
      }
    },
    {
      "cell_type": "code",
      "source": [
        "print(\"Hello\")"
      ],
      "metadata": {
        "colab": {
          "base_uri": "https://localhost:8080/"
        },
        "id": "SPXokvmFjU5h",
        "outputId": "6df148d5-5355-4562-aafb-8f1f4f74a89f"
      },
      "execution_count": null,
      "outputs": [
        {
          "output_type": "stream",
          "name": "stdout",
          "text": [
            "Hello\n"
          ]
        }
      ]
    },
    {
      "cell_type": "code",
      "source": [
        "import time"
      ],
      "metadata": {
        "id": "a2rWHwskjkyc"
      },
      "execution_count": null,
      "outputs": []
    },
    {
      "cell_type": "code",
      "source": [
        "print(time.ctime())"
      ],
      "metadata": {
        "colab": {
          "base_uri": "https://localhost:8080/"
        },
        "id": "-mlttvrAj0yq",
        "outputId": "ac22f809-842d-4b95-de45-08670249b248"
      },
      "execution_count": null,
      "outputs": [
        {
          "output_type": "stream",
          "name": "stdout",
          "text": [
            "Thu Feb  6 04:41:01 2025\n"
          ]
        }
      ]
    },
    {
      "cell_type": "code",
      "source": [
        "z = \"Hello\"\n",
        "y = 20\n",
        "c = 30.9\n",
        "f = [\"Apple\", \"Berry\"]\n",
        "\n",
        "z, y, c, f\n",
        "print(z, y, c, f)"
      ],
      "metadata": {
        "colab": {
          "base_uri": "https://localhost:8080/"
        },
        "id": "2AmjOaS-kHjC",
        "outputId": "5ff8b278-d3bb-4d21-a2cc-9e85a930d677"
      },
      "execution_count": null,
      "outputs": [
        {
          "output_type": "stream",
          "name": "stdout",
          "text": [
            "Hello 20 30.9 ['Apple', 'Berry']\n"
          ]
        }
      ]
    },
    {
      "cell_type": "code",
      "source": [
        "o = int(1)\n",
        "y = int (2.8)\n",
        "z = int (\"3\")\n",
        "j = str(20)\n",
        "\n",
        "print(o, y, z, j)"
      ],
      "metadata": {
        "colab": {
          "base_uri": "https://localhost:8080/"
        },
        "id": "uIbgCoErkxF6",
        "outputId": "e4275388-bd6f-4fa2-95ca-e1bbb5343107"
      },
      "execution_count": null,
      "outputs": [
        {
          "output_type": "stream",
          "name": "stdout",
          "text": [
            "1 2 3 20\n"
          ]
        }
      ]
    },
    {
      "cell_type": "code",
      "source": [
        "a = \"Hello\"\n",
        "b = \" World\"\n",
        "c = a+b\n",
        "print(c)"
      ],
      "metadata": {
        "colab": {
          "base_uri": "https://localhost:8080/"
        },
        "id": "GFd2RpYFlhQ2",
        "outputId": "5cab55f2-120a-42ab-efd1-977dade0f472"
      },
      "execution_count": null,
      "outputs": [
        {
          "output_type": "stream",
          "name": "stdout",
          "text": [
            "Hello World\n"
          ]
        }
      ]
    },
    {
      "cell_type": "code",
      "source": [
        "a = \"Hello World\"\n",
        "print(a[1])\n",
        "\n",
        "print(len(a))"
      ],
      "metadata": {
        "colab": {
          "base_uri": "https://localhost:8080/"
        },
        "id": "f9K-beMvl-X0",
        "outputId": "97b5efc9-888c-4392-9f8c-efc1fc3309c2"
      },
      "execution_count": null,
      "outputs": [
        {
          "output_type": "stream",
          "name": "stdout",
          "text": [
            "e\n",
            "11\n"
          ]
        }
      ]
    },
    {
      "cell_type": "code",
      "source": [
        "b = \"BINUS University\"\n",
        "print(b[2:5]) #diantara\n",
        "\n",
        "c = \"BINUS University\"\n",
        "print(c[:5]) #potong sebelum\n",
        "\n",
        "d = \"BINUS University\"\n",
        "print(d[2:]) #potong sesudah"
      ],
      "metadata": {
        "colab": {
          "base_uri": "https://localhost:8080/"
        },
        "id": "kjZPKu7-maXO",
        "outputId": "69852e13-4670-4bf5-a20c-74fbbad36bf8"
      },
      "execution_count": null,
      "outputs": [
        {
          "output_type": "stream",
          "name": "stdout",
          "text": [
            "NUS\n",
            "BINUS\n",
            "NUS University\n"
          ]
        }
      ]
    },
    {
      "cell_type": "code",
      "source": [
        "a = \"Hello\"\n",
        "print(a.upper())\n",
        "\n",
        "b = \"HELLO\"\n",
        "print(b.lower())\n",
        "\n",
        "c = \"Hello\"\n",
        "print(a.replace(\"H\", \"J\"))"
      ],
      "metadata": {
        "colab": {
          "base_uri": "https://localhost:8080/"
        },
        "id": "T0br5i-0nY5Y",
        "outputId": "1b7d2724-b6e8-4e2b-cd50-c3a1b5454d94"
      },
      "execution_count": null,
      "outputs": [
        {
          "output_type": "stream",
          "name": "stdout",
          "text": [
            "HELLO\n",
            "hello\n",
            "Jello\n"
          ]
        }
      ]
    },
    {
      "cell_type": "code",
      "source": [
        "nama = \"Sam\"\n",
        "x = 19\n",
        "string = \"nama saya {} umur {}\"\n",
        "\n",
        "print(string.format(nama, x))"
      ],
      "metadata": {
        "colab": {
          "base_uri": "https://localhost:8080/"
        },
        "id": "mef3CpgpoCs_",
        "outputId": "40ff35a7-37fb-482a-a794-59d7ec122efa"
      },
      "execution_count": null,
      "outputs": [
        {
          "output_type": "stream",
          "name": "stdout",
          "text": [
            "nama saya Sam umur 19\n"
          ]
        }
      ]
    },
    {
      "cell_type": "code",
      "source": [
        "nama = \"Grace\"\n",
        "for i in enumerate(nama):\n",
        "  print(i)"
      ],
      "metadata": {
        "colab": {
          "base_uri": "https://localhost:8080/"
        },
        "id": "x9m2h5hjorC5",
        "outputId": "8f7d22e6-7c14-430e-b457-c2c12cf1a077"
      },
      "execution_count": null,
      "outputs": [
        {
          "output_type": "stream",
          "name": "stdout",
          "text": [
            "(0, 'G')\n",
            "(1, 'r')\n",
            "(2, 'a')\n",
            "(3, 'c')\n",
            "(4, 'e')\n"
          ]
        }
      ]
    },
    {
      "cell_type": "code",
      "source": [
        "def perbandingan (a, b):\n",
        "  if a>b:\n",
        "    print(\"a lebih dari b\")\n",
        "  elif b>a:\n",
        "    print(\"b lebih dari a\")\n",
        "  else:\n",
        "      print(\"a sama dengan b\")"
      ],
      "metadata": {
        "id": "HBXI-k7FplUa"
      },
      "execution_count": null,
      "outputs": []
    },
    {
      "cell_type": "code",
      "source": [
        "perbandingan (4, 8)"
      ],
      "metadata": {
        "colab": {
          "base_uri": "https://localhost:8080/"
        },
        "id": "PkWbg3NcpvOr",
        "outputId": "2ed141c2-ea58-48e3-aa00-e5984316330e"
      },
      "execution_count": null,
      "outputs": [
        {
          "output_type": "stream",
          "name": "stdout",
          "text": [
            "b lebih dari a\n"
          ]
        }
      ]
    },
    {
      "cell_type": "code",
      "source": [
        "i=1\n",
        "i=1\n",
        "while i<6:\n",
        "  print(i)\n",
        "  i += 1"
      ],
      "metadata": {
        "colab": {
          "base_uri": "https://localhost:8080/"
        },
        "id": "1ozINivDq3n1",
        "outputId": "19ed3692-ce6e-43e6-838e-69d8292df630"
      },
      "execution_count": null,
      "outputs": [
        {
          "output_type": "stream",
          "name": "stdout",
          "text": [
            "1\n",
            "2\n",
            "3\n",
            "4\n",
            "5\n"
          ]
        }
      ]
    },
    {
      "cell_type": "code",
      "source": [
        "i=3\n",
        "for i in range(3,6):\n",
        "  print(i)"
      ],
      "metadata": {
        "colab": {
          "base_uri": "https://localhost:8080/"
        },
        "id": "jKSEASRhrNdu",
        "outputId": "5f4f6194-e851-46f3-84b3-d29e45c8062a"
      },
      "execution_count": null,
      "outputs": [
        {
          "output_type": "stream",
          "name": "stdout",
          "text": [
            "3\n",
            "4\n",
            "5\n"
          ]
        }
      ]
    },
    {
      "cell_type": "code",
      "source": [
        "for i in range(2,41):\n",
        "  if i%2 == 0:\n",
        "    print(str(i) + \" Genap\")\n",
        "  else:\n",
        "    print(str(i) + \" Ganjil\")"
      ],
      "metadata": {
        "colab": {
          "base_uri": "https://localhost:8080/"
        },
        "id": "tPcjdxrMrsZW",
        "outputId": "cfd13d9c-45c6-4347-b07e-212b45e0998e"
      },
      "execution_count": null,
      "outputs": [
        {
          "output_type": "stream",
          "name": "stdout",
          "text": [
            "2 Genap\n",
            "3 Ganjil\n",
            "4 Genap\n",
            "5 Ganjil\n",
            "6 Genap\n",
            "7 Ganjil\n",
            "8 Genap\n",
            "9 Ganjil\n",
            "10 Genap\n",
            "11 Ganjil\n",
            "12 Genap\n",
            "13 Ganjil\n",
            "14 Genap\n",
            "15 Ganjil\n",
            "16 Genap\n",
            "17 Ganjil\n",
            "18 Genap\n",
            "19 Ganjil\n",
            "20 Genap\n",
            "21 Ganjil\n",
            "22 Genap\n",
            "23 Ganjil\n",
            "24 Genap\n",
            "25 Ganjil\n",
            "26 Genap\n",
            "27 Ganjil\n",
            "28 Genap\n",
            "29 Ganjil\n",
            "30 Genap\n",
            "31 Ganjil\n",
            "32 Genap\n",
            "33 Ganjil\n",
            "34 Genap\n",
            "35 Ganjil\n",
            "36 Genap\n",
            "37 Ganjil\n",
            "38 Genap\n",
            "39 Ganjil\n",
            "40 Genap\n"
          ]
        }
      ]
    },
    {
      "cell_type": "code",
      "source": [
        "import numpy as np\n"
      ],
      "metadata": {
        "id": "0cvbRsTVuzqZ"
      },
      "execution_count": null,
      "outputs": []
    },
    {
      "cell_type": "code",
      "source": [
        "x = np.array([[1, 2, 3], [3, 6, 7]])\n",
        "x"
      ],
      "metadata": {
        "colab": {
          "base_uri": "https://localhost:8080/"
        },
        "id": "NqnaOTfQu_ui",
        "outputId": "5ef8fa88-56d6-4d63-b15a-8312a88e8094"
      },
      "execution_count": null,
      "outputs": [
        {
          "output_type": "execute_result",
          "data": {
            "text/plain": [
              "array([[1, 2, 3],\n",
              "       [3, 6, 7]])"
            ]
          },
          "metadata": {},
          "execution_count": 50
        }
      ]
    },
    {
      "cell_type": "code",
      "source": [
        "y = np.array([[6, 4, 7], [9, 1, 4]])\n",
        "y\n"
      ],
      "metadata": {
        "colab": {
          "base_uri": "https://localhost:8080/"
        },
        "id": "zVWqg7orvbos",
        "outputId": "f34b3831-3f2f-41b7-c288-521defcfdb6f"
      },
      "execution_count": null,
      "outputs": [
        {
          "output_type": "execute_result",
          "data": {
            "text/plain": [
              "array([[6, 4, 7],\n",
              "       [9, 1, 4]])"
            ]
          },
          "metadata": {},
          "execution_count": 54
        }
      ]
    },
    {
      "cell_type": "code",
      "source": [
        "print(x+y)"
      ],
      "metadata": {
        "colab": {
          "base_uri": "https://localhost:8080/"
        },
        "id": "4b7I0fKKv1uE",
        "outputId": "6ec97872-3d3e-4bc9-8884-b17d87449195"
      },
      "execution_count": null,
      "outputs": [
        {
          "output_type": "stream",
          "name": "stdout",
          "text": [
            "[[ 7  6 10]\n",
            " [12  7 11]]\n"
          ]
        }
      ]
    },
    {
      "cell_type": "code",
      "source": [
        "data = np.array ([10, 9, 8, 7, 5, 6])\n",
        "\n",
        "print(\"Rata-rata:\", np.mean(data))\n",
        "print(\"Maksimum:\", np.max(data))\n",
        "print(\"Minimum:\", np.min(data))\n",
        "print(\"Standar Deviasi:\", np.std(data))"
      ],
      "metadata": {
        "colab": {
          "base_uri": "https://localhost:8080/"
        },
        "id": "h9tz8BJdv_V0",
        "outputId": "304a3ddd-aed4-44e5-b911-2fa12f42d7b4"
      },
      "execution_count": null,
      "outputs": [
        {
          "output_type": "stream",
          "name": "stdout",
          "text": [
            "Rata-rata: 7.5\n",
            "Maksimum: 10\n",
            "Minimum: 5\n",
            "Standar Deviasi: 1.707825127659933\n"
          ]
        }
      ]
    },
    {
      "cell_type": "code",
      "source": [],
      "metadata": {
        "id": "V-Eofdc-zbvI"
      },
      "execution_count": null,
      "outputs": []
    }
  ]
}
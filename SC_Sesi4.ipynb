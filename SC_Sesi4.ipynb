{
  "nbformat": 4,
  "nbformat_minor": 0,
  "metadata": {
    "colab": {
      "provenance": [],
      "collapsed_sections": [
        "wUhwjdxRK7KH",
        "0DpN5X8wMUUt"
      ],
      "toc_visible": true,
      "authorship_tag": "ABX9TyOsVT58IulsVG6IVCNtnbLo",
      "include_colab_link": true
    },
    "kernelspec": {
      "name": "python3",
      "display_name": "Python 3"
    },
    "language_info": {
      "name": "python"
    }
  },
  "cells": [
    {
      "cell_type": "markdown",
      "metadata": {
        "id": "view-in-github",
        "colab_type": "text"
      },
      "source": [
        "<a href=\"https://colab.research.google.com/github/VanHeatcliff/LAB---Scientific-Computing/blob/main/SC_Sesi4.ipynb\" target=\"_parent\"><img src=\"https://colab.research.google.com/assets/colab-badge.svg\" alt=\"Open In Colab\"/></a>"
      ]
    },
    {
      "cell_type": "markdown",
      "source": [
        "#Bisection"
      ],
      "metadata": {
        "id": "wUhwjdxRK7KH"
      }
    },
    {
      "cell_type": "code",
      "execution_count": null,
      "metadata": {
        "id": "WYgF3QK4FII3"
      },
      "outputs": [],
      "source": [
        "import numpy as np\n",
        "\n",
        "def my_bisection(f, a, b, tal):\n",
        "  if np.sign(f(a)) == np.sign(f(b)):\n",
        "    raise Exeption(\"The scalars a and b do not bound a root\")\n",
        "\n",
        "#midpoint\n",
        "  n = (a+b)/2\n",
        "\n",
        "  if np.abs(f(n)) < tal:\n",
        "    return n\n",
        "  elif np.sign(f(a)) == np.sign(f(n)):\n",
        "    return my_bisection(f, n, b, tal)\n",
        "  elif np.sign(f(b)) == np.sign(f(n)):\n",
        "    return my_bisection(f, a, n, tal)"
      ]
    },
    {
      "cell_type": "code",
      "source": [
        "f = lambda x: x**2 - 2\n",
        "\n",
        "r1 = my_bisection(f, 0, 2, 0.1)\n",
        "print(\"r1 = \", r1)\n",
        "r01 = my_bisection(f, 0, 2, 0.01)\n",
        "print(\"r01 = \", r01)\n",
        "\n",
        "print(\"f(r1) =\", f(r1))\n",
        "print(\"f(r01) =\", f(r01))"
      ],
      "metadata": {
        "colab": {
          "base_uri": "https://localhost:8080/"
        },
        "id": "gN2M42y_Gqsq",
        "outputId": "0adb4cbf-4860-45d6-b7fc-411c7697037a"
      },
      "execution_count": null,
      "outputs": [
        {
          "output_type": "stream",
          "name": "stdout",
          "text": [
            "r1 =  1.4375\n",
            "r01 =  1.4140625\n",
            "f(r1) = 0.06640625\n",
            "f(r01) = -0.00042724609375\n"
          ]
        }
      ]
    },
    {
      "cell_type": "markdown",
      "source": [
        "#Newton Raphson"
      ],
      "metadata": {
        "id": "T0p8PmRHLLV-"
      }
    },
    {
      "cell_type": "code",
      "source": [
        "import numpy as np\n",
        "\n",
        "f = lambda x: x**2 - 2\n",
        "f_prime = lambda x: 2*x\n",
        "newton_raphson = 1.4 - (f(1.4))/(f_prime(1.4))\n",
        "\n",
        "print(\"newton_raphson =\", newton_raphson)\n",
        "print(\"sqrt(2) =\", np.sqrt(2))"
      ],
      "metadata": {
        "colab": {
          "base_uri": "https://localhost:8080/"
        },
        "id": "-CiSuG2fIRN4",
        "outputId": "8535c9dc-dad5-4ace-8857-c31e19ab4808"
      },
      "execution_count": null,
      "outputs": [
        {
          "output_type": "stream",
          "name": "stdout",
          "text": [
            "newton_raphson = 1.4142857142857144\n",
            "sqrt(2) = 1.4142135623730951\n"
          ]
        }
      ]
    },
    {
      "cell_type": "code",
      "source": [
        "def my_newton(f, df, x0, tal):\n",
        "  if abs(f(x0)) < tal:\n",
        "    return x0\n",
        "  else:\n",
        "    return my_newton(f, df, x0 - f(x0)/df(x0), tal)"
      ],
      "metadata": {
        "id": "xCSMNzn3JJzQ"
      },
      "execution_count": null,
      "outputs": []
    },
    {
      "cell_type": "code",
      "source": [
        "estimate = my_newton(f, f_prime, 1.5, 1e-6)\n",
        "print(\"estimate =\", estimate)\n",
        "print(\"sqrt(2) =\", np.sqrt(2))"
      ],
      "metadata": {
        "colab": {
          "base_uri": "https://localhost:8080/"
        },
        "id": "KlWcwURMJgeN",
        "outputId": "89facedf-f601-4336-b2e1-55ac1c6cc16d"
      },
      "execution_count": null,
      "outputs": [
        {
          "output_type": "stream",
          "name": "stdout",
          "text": [
            "estimate = 1.4142135623746899\n",
            "sqrt(2) = 1.4142135623730951\n"
          ]
        }
      ]
    },
    {
      "cell_type": "markdown",
      "source": [
        "#LATIHAN"
      ],
      "metadata": {
        "id": "0DpN5X8wMUUt"
      }
    },
    {
      "cell_type": "code",
      "source": [
        "import numpy as np\n",
        "\n",
        "def my_bisection(f, a, b, tal):\n",
        "  if np.sign(f(a)) == np.sign(f(b)):\n",
        "    raise Exeption(\"The scalars a and b do not bound a root\")\n",
        "\n",
        "#midpoint\n",
        "  n = (a+b)/2\n",
        "\n",
        "  if np.abs(f(n)) < tal:\n",
        "    return n\n",
        "  elif np.sign(f(a)) == np.sign(f(n)):\n",
        "    return my_bisection(f, n, b, tal)\n",
        "  elif np.sign(f(b)) == np.sign(f(n)):\n",
        "    return my_bisection(f, a, n, tal)"
      ],
      "metadata": {
        "id": "ilmc7vrGKf0j"
      },
      "execution_count": null,
      "outputs": []
    },
    {
      "cell_type": "code",
      "source": [
        "f = lambda x: x**3 + x - 1\n",
        "\n",
        "r1 = my_bisection(f, 0, 1, 0.001)\n",
        "print(\"r1 = \", r1)"
      ],
      "metadata": {
        "colab": {
          "base_uri": "https://localhost:8080/"
        },
        "id": "w0xOZuliLxVS",
        "outputId": "48a77289-a4ce-4912-9a72-ef6dc3028250"
      },
      "execution_count": null,
      "outputs": [
        {
          "output_type": "stream",
          "name": "stdout",
          "text": [
            "r1 =  0.6826171875\n"
          ]
        }
      ]
    },
    {
      "cell_type": "code",
      "source": [
        "import math\n",
        "\n",
        "f = lambda x: math.cos(x) - x\n",
        "\n",
        "r1 = my_bisection(f, 0, 1, 0.0001)\n",
        "print(\"r1 =\", r1)"
      ],
      "metadata": {
        "colab": {
          "base_uri": "https://localhost:8080/"
        },
        "id": "uCSO28VgMYnj",
        "outputId": "15fd71d9-e6dd-46e7-e5c1-2ea27eaf8935"
      },
      "execution_count": null,
      "outputs": [
        {
          "output_type": "stream",
          "name": "stdout",
          "text": [
            "r1 = 0.7391357421875\n"
          ]
        }
      ]
    },
    {
      "cell_type": "markdown",
      "source": [
        "#MODUL SESSION 4"
      ],
      "metadata": {
        "id": "sHFqe7yERrAB"
      }
    },
    {
      "cell_type": "markdown",
      "source": [
        "BISECTION"
      ],
      "metadata": {
        "id": "9BsNsVHgR9oM"
      }
    },
    {
      "cell_type": "code",
      "source": [
        "import numpy as np\n",
        "\n",
        "def my_bisection(f, a, b, tal):\n",
        "  if np.sign(f(a)) == np.sign(f(b)):\n",
        "    raise Exception(\"The scalars a and b do not bound a root\")\n",
        "\n",
        "#midpoint\n",
        "  n = (a+b)/2\n",
        "\n",
        "  if np.abs(f(n)) < tal:\n",
        "    return n\n",
        "  elif np.sign(f(a)) == np.sign(f(n)):\n",
        "    return my_bisection(f, n, b, tal)\n",
        "  elif np.sign(f(b)) == np.sign(f(n)):\n",
        "    return my_bisection(f, a, n, tal)"
      ],
      "metadata": {
        "id": "4IycH3n6RzbR"
      },
      "execution_count": 22,
      "outputs": []
    },
    {
      "cell_type": "markdown",
      "source": [
        "NO. 1"
      ],
      "metadata": {
        "id": "QcrBETw2Vt5d"
      }
    },
    {
      "cell_type": "code",
      "source": [
        "f = lambda x: x**3 - 3*x**2 + 2*x\n",
        "\n",
        "r1 = my_bisection(f, 1.1, 2, 0.01)\n",
        "print(\"r1 = \", r1)\n",
        "\n",
        "print(\"f(r1) =\", f(r1))"
      ],
      "metadata": {
        "colab": {
          "base_uri": "https://localhost:8080/"
        },
        "id": "ttxcV168R4vp",
        "outputId": "e3d52a3c-5d1e-49be-8e9d-d5bccd8db18b"
      },
      "execution_count": 23,
      "outputs": [
        {
          "output_type": "stream",
          "name": "stdout",
          "text": [
            "r1 =  1.996484375\n",
            "f(r1) = -0.006994214594365111\n"
          ]
        }
      ]
    },
    {
      "cell_type": "markdown",
      "source": [
        "NO. 2"
      ],
      "metadata": {
        "id": "n-BkAB0eVvnd"
      }
    },
    {
      "cell_type": "code",
      "source": [
        "import math\n",
        "\n",
        "f = lambda x: math.sin(x) - x\n",
        "\n",
        "r1 = my_bisection(f, 0, 1, 0.001)\n",
        "print(\"r1 =\", r1)\n",
        "\n",
        "print(\"f(r1) =\", f(r1))"
      ],
      "metadata": {
        "colab": {
          "base_uri": "https://localhost:8080/"
        },
        "id": "_k6Niz-kUIpX",
        "outputId": "8edaebb0-bb86-426b-f923-903492a6fde9"
      },
      "execution_count": 24,
      "outputs": [
        {
          "output_type": "stream",
          "name": "stdout",
          "text": [
            "r1 = 0.125\n",
            "f(r1) = -0.0003252666147723071\n"
          ]
        }
      ]
    },
    {
      "cell_type": "markdown",
      "source": [
        "**NEWTON**"
      ],
      "metadata": {
        "id": "9vVWWsksVEgA"
      }
    },
    {
      "cell_type": "markdown",
      "source": [
        "NO. 1"
      ],
      "metadata": {
        "id": "OCJZ4rm_XoQX"
      }
    },
    {
      "cell_type": "code",
      "source": [
        "import numpy as np\n",
        "\n",
        "f = lambda x: x**3 - 3*x**2 + 2*x\n",
        "f_prime = lambda x: 3*x**2 - 6*x + 2\n",
        "newton_raphson = 1.4 - (f(1.4))/(f_prime(1.4))\n",
        "\n",
        "print(\"newton_raphson =\", newton_raphson)\n",
        "print(\"sqrt(2) =\", np.sqrt(2))"
      ],
      "metadata": {
        "colab": {
          "base_uri": "https://localhost:8080/"
        },
        "id": "OyTh-Jh4VIlZ",
        "outputId": "39751b80-a46f-4ecf-c023-22db1c005fbc"
      },
      "execution_count": 16,
      "outputs": [
        {
          "output_type": "stream",
          "name": "stdout",
          "text": [
            "newton_raphson = 0.7538461538461535\n",
            "sqrt(2) = 1.4142135623730951\n"
          ]
        }
      ]
    },
    {
      "cell_type": "code",
      "source": [
        "def my_newton(f, df, x0, tal):\n",
        "  if abs(f(x0)) < tal:\n",
        "    return x0\n",
        "  else:\n",
        "    return my_newton(f, df, x0 - f(x0)/df(x0), tal)"
      ],
      "metadata": {
        "id": "wi1w6FMvVJAB"
      },
      "execution_count": 17,
      "outputs": []
    },
    {
      "cell_type": "code",
      "source": [
        "estimate = my_newton(f, f_prime, 1.5, 0.01)\n",
        "print(\"estimate =\", estimate)\n",
        "print(\"sqrt(2) =\", np.sqrt(2))"
      ],
      "metadata": {
        "colab": {
          "base_uri": "https://localhost:8080/"
        },
        "id": "aysMN6_4XP2v",
        "outputId": "8bc74b1c-2338-400f-8633-0b829e631eaf"
      },
      "execution_count": 18,
      "outputs": [
        {
          "output_type": "stream",
          "name": "stdout",
          "text": [
            "estimate = 0.0\n",
            "sqrt(2) = 1.4142135623730951\n"
          ]
        }
      ]
    },
    {
      "cell_type": "markdown",
      "source": [
        "NO. 2"
      ],
      "metadata": {
        "id": "VhAhfv9WXqO_"
      }
    },
    {
      "cell_type": "code",
      "source": [
        "import numpy as np\n",
        "\n",
        "f = lambda x: np.exp(x) - 2 * x\n",
        "f_prime = lambda x: np.exp(x) - 2\n",
        "newton_raphson = 1.4 - (f(1.4))/(f_prime(1.4))\n",
        "\n",
        "print(\"newton_raphson =\", newton_raphson)\n",
        "print(\"sqrt(3) =\", np.sqrt(2))"
      ],
      "metadata": {
        "colab": {
          "base_uri": "https://localhost:8080/"
        },
        "id": "9HfNWzaWXsVc",
        "outputId": "34e0e20f-461e-411e-a3ff-4323b7141546"
      },
      "execution_count": 60,
      "outputs": [
        {
          "output_type": "stream",
          "name": "stdout",
          "text": [
            "newton_raphson = 0.7892565263263558\n",
            "sqrt(3) = 1.4142135623730951\n"
          ]
        }
      ]
    },
    {
      "cell_type": "code",
      "source": [
        "def my_newton(f, df, x0, tol, max_iter=100):\n",
        "    if abs(f(x0)) < tol or max_iter == 0:\n",
        "        return x0\n",
        "    else:\n",
        "        return my_newton(f, df, x0 - f(x0)/df(x0), tol, max_iter - 1)"
      ],
      "metadata": {
        "id": "_FU3VYoflkJd"
      },
      "execution_count": 48,
      "outputs": []
    },
    {
      "cell_type": "code",
      "source": [
        "estimate = my_newton(f, f_prime, 1, 0.001)\n",
        "\n",
        "print(\"estimate =\", estimate)\n",
        "print(\"sqrt(2) =\", np.sqrt(2))"
      ],
      "metadata": {
        "colab": {
          "base_uri": "https://localhost:8080/"
        },
        "id": "TUAl_ttzll5M",
        "outputId": "ff5410f3-e021-463a-8b60-59c54a236607"
      },
      "execution_count": 52,
      "outputs": [
        {
          "output_type": "stream",
          "name": "stdout",
          "text": [
            "estimate = 1.0\n",
            "sqrt(2) = 1.4142135623730951\n"
          ]
        }
      ]
    }
  ]
}
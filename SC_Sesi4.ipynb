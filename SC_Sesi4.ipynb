{
  "nbformat": 4,
  "nbformat_minor": 0,
  "metadata": {
    "colab": {
      "provenance": [],
      "authorship_tag": "ABX9TyMnGDkoNznKv4vKEGntPiMl",
      "include_colab_link": true
    },
    "kernelspec": {
      "name": "python3",
      "display_name": "Python 3"
    },
    "language_info": {
      "name": "python"
    }
  },
  "cells": [
    {
      "cell_type": "markdown",
      "metadata": {
        "id": "view-in-github",
        "colab_type": "text"
      },
      "source": [
        "<a href=\"https://colab.research.google.com/github/VanHeatcliff/LAB---Scientific-Computing/blob/main/SC_Sesi4.ipynb\" target=\"_parent\"><img src=\"https://colab.research.google.com/assets/colab-badge.svg\" alt=\"Open In Colab\"/></a>"
      ]
    },
    {
      "cell_type": "markdown",
      "source": [
        "#Bisection"
      ],
      "metadata": {
        "id": "wUhwjdxRK7KH"
      }
    },
    {
      "cell_type": "code",
      "execution_count": 72,
      "metadata": {
        "id": "WYgF3QK4FII3"
      },
      "outputs": [],
      "source": [
        "import numpy as np\n",
        "\n",
        "def my_bisection(f, a, b, tal):\n",
        "  if np.sign(f(a)) == np.sign(f(b)):\n",
        "    raise Exeption(\"The scalars a and b do not bound a root\")\n",
        "\n",
        "#midpoint\n",
        "  n = (a+b)/2\n",
        "\n",
        "  if np.abs(f(n)) < tal:\n",
        "    return n\n",
        "  elif np.sign(f(a)) == np.sign(f(n)):\n",
        "    return my_bisection(f, n, b, tal)\n",
        "  elif np.sign(f(b)) == np.sign(f(n)):\n",
        "    return my_bisection(f, a, n, tal)"
      ]
    },
    {
      "cell_type": "code",
      "source": [
        "f = lambda x: x**2 - 2\n",
        "\n",
        "r1 = my_bisection(f, 0, 2, 0.1)\n",
        "print(\"r1 = \", r1)\n",
        "r01 = my_bisection(f, 0, 2, 0.01)\n",
        "print(\"r01 = \", r01)\n",
        "\n",
        "print(\"f(r1) =\", f(r1))\n",
        "print(\"f(r01) =\", f(r01))"
      ],
      "metadata": {
        "colab": {
          "base_uri": "https://localhost:8080/"
        },
        "id": "gN2M42y_Gqsq",
        "outputId": "0adb4cbf-4860-45d6-b7fc-411c7697037a"
      },
      "execution_count": 73,
      "outputs": [
        {
          "output_type": "stream",
          "name": "stdout",
          "text": [
            "r1 =  1.4375\n",
            "r01 =  1.4140625\n",
            "f(r1) = 0.06640625\n",
            "f(r01) = -0.00042724609375\n"
          ]
        }
      ]
    },
    {
      "cell_type": "markdown",
      "source": [
        "#Newton Raphson"
      ],
      "metadata": {
        "id": "T0p8PmRHLLV-"
      }
    },
    {
      "cell_type": "code",
      "source": [
        "import numpy as np\n",
        "\n",
        "f = lambda x: x**2 - 2\n",
        "f_prime = lambda x: 2*x\n",
        "newton_raphson = 1.4 - (f(1.4))/(f_prime(1.4))\n",
        "\n",
        "print(\"newton_raphson =\", newton_raphson)\n",
        "print(\"sqrt(2) =\", np.sqrt(2))"
      ],
      "metadata": {
        "colab": {
          "base_uri": "https://localhost:8080/"
        },
        "id": "-CiSuG2fIRN4",
        "outputId": "8535c9dc-dad5-4ace-8857-c31e19ab4808"
      },
      "execution_count": 65,
      "outputs": [
        {
          "output_type": "stream",
          "name": "stdout",
          "text": [
            "newton_raphson = 1.4142857142857144\n",
            "sqrt(2) = 1.4142135623730951\n"
          ]
        }
      ]
    },
    {
      "cell_type": "code",
      "source": [
        "def my_newton(f, df, x0, tal):\n",
        "  if abs(f(x0)) < tal:\n",
        "    return x0\n",
        "  else:\n",
        "    return my_newton(f, df, x0 - f(x0)/df(x0), tal)"
      ],
      "metadata": {
        "id": "xCSMNzn3JJzQ"
      },
      "execution_count": 66,
      "outputs": []
    },
    {
      "cell_type": "code",
      "source": [
        "estimate = my_newton(f, f_prime, 1.5, 1e-6)\n",
        "print(\"estimate =\", estimate)\n",
        "print(\"sqrt(2) =\", np.sqrt(2))"
      ],
      "metadata": {
        "colab": {
          "base_uri": "https://localhost:8080/"
        },
        "id": "KlWcwURMJgeN",
        "outputId": "89facedf-f601-4336-b2e1-55ac1c6cc16d"
      },
      "execution_count": 67,
      "outputs": [
        {
          "output_type": "stream",
          "name": "stdout",
          "text": [
            "estimate = 1.4142135623746899\n",
            "sqrt(2) = 1.4142135623730951\n"
          ]
        }
      ]
    },
    {
      "cell_type": "markdown",
      "source": [
        "#LATIHAN"
      ],
      "metadata": {
        "id": "0DpN5X8wMUUt"
      }
    },
    {
      "cell_type": "code",
      "source": [
        "import numpy as np\n",
        "\n",
        "def my_bisection(f, a, b, tal):\n",
        "  if np.sign(f(a)) == np.sign(f(b)):\n",
        "    raise Exeption(\"The scalars a and b do not bound a root\")\n",
        "\n",
        "#midpoint\n",
        "  n = (a+b)/2\n",
        "\n",
        "  if np.abs(f(n)) < tal:\n",
        "    return n\n",
        "  elif np.sign(f(a)) == np.sign(f(n)):\n",
        "    return my_bisection(f, n, b, tal)\n",
        "  elif np.sign(f(b)) == np.sign(f(n)):\n",
        "    return my_bisection(f, a, n, tal)"
      ],
      "metadata": {
        "id": "ilmc7vrGKf0j"
      },
      "execution_count": null,
      "outputs": []
    },
    {
      "cell_type": "code",
      "source": [
        "f = lambda x: x**3 + x - 1\n",
        "\n",
        "r1 = my_bisection(f, 0, 1, 0.001)\n",
        "print(\"r1 = \", r1)"
      ],
      "metadata": {
        "colab": {
          "base_uri": "https://localhost:8080/"
        },
        "id": "w0xOZuliLxVS",
        "outputId": "48a77289-a4ce-4912-9a72-ef6dc3028250"
      },
      "execution_count": null,
      "outputs": [
        {
          "output_type": "stream",
          "name": "stdout",
          "text": [
            "r1 =  0.6826171875\n"
          ]
        }
      ]
    },
    {
      "cell_type": "code",
      "source": [
        "import math\n",
        "\n",
        "f = lambda x: math.cos(x) - x\n",
        "\n",
        "r1 = my_bisection(f, 0, 1, 0.0001)\n",
        "print(\"r1 =\", r1)"
      ],
      "metadata": {
        "colab": {
          "base_uri": "https://localhost:8080/"
        },
        "id": "uCSO28VgMYnj",
        "outputId": "15fd71d9-e6dd-46e7-e5c1-2ea27eaf8935"
      },
      "execution_count": null,
      "outputs": [
        {
          "output_type": "stream",
          "name": "stdout",
          "text": [
            "r1 = 0.7391357421875\n"
          ]
        }
      ]
    },
    {
      "cell_type": "markdown",
      "source": [
        "#MODUL SESSION 4"
      ],
      "metadata": {
        "id": "sHFqe7yERrAB"
      }
    },
    {
      "cell_type": "markdown",
      "source": [
        "BISECTION"
      ],
      "metadata": {
        "id": "9BsNsVHgR9oM"
      }
    },
    {
      "cell_type": "code",
      "source": [
        "import numpy as np\n",
        "\n",
        "def my_bisection(f, a, b, tal):\n",
        "  if np.sign(f(a)) == np.sign(f(b)):\n",
        "    raise Exeption(\"The scalars a and b do not bound a root\")\n",
        "\n",
        "#midpoint\n",
        "  n = (a+b)/2\n",
        "\n",
        "  if np.abs(f(n)) < tal:\n",
        "    return n\n",
        "  elif np.sign(f(a)) == np.sign(f(n)):\n",
        "    return my_bisection(f, n, b, tal)\n",
        "  elif np.sign(f(b)) == np.sign(f(n)):\n",
        "    return my_bisection(f, a, n, tal)"
      ],
      "metadata": {
        "id": "4IycH3n6RzbR"
      },
      "execution_count": null,
      "outputs": []
    },
    {
      "cell_type": "markdown",
      "source": [
        "NO. 1"
      ],
      "metadata": {
        "id": "QcrBETw2Vt5d"
      }
    },
    {
      "cell_type": "code",
      "source": [
        "f = lambda x: x**3 - 3*x**2 + 2*x\n",
        "\n",
        "r1 = my_bisection(f, 1.1, 2, 0.01)\n",
        "print(\"r1 = \", r1)\n",
        "\n",
        "print(\"f(r1) =\", f(r1))"
      ],
      "metadata": {
        "colab": {
          "base_uri": "https://localhost:8080/"
        },
        "id": "ttxcV168R4vp",
        "outputId": "76e4a3b0-c795-48a9-8f48-3194a0ce0858"
      },
      "execution_count": null,
      "outputs": [
        {
          "output_type": "stream",
          "name": "stdout",
          "text": [
            "r1 =  1.996484375\n",
            "f(r1) = -0.006994214594365111\n"
          ]
        }
      ]
    },
    {
      "cell_type": "markdown",
      "source": [
        "NO. 2"
      ],
      "metadata": {
        "id": "n-BkAB0eVvnd"
      }
    },
    {
      "cell_type": "code",
      "source": [
        "import math\n",
        "\n",
        "f = lambda x: math.sin(x) - x\n",
        "\n",
        "r1 = my_bisection(f, 0, 1, 0.001)\n",
        "print(\"r1 =\", r1)\n",
        "\n",
        "print(\"f(r1) =\", f(r1))"
      ],
      "metadata": {
        "colab": {
          "base_uri": "https://localhost:8080/"
        },
        "id": "_k6Niz-kUIpX",
        "outputId": "542db35d-c258-4ae3-de0c-28542cf1e748"
      },
      "execution_count": null,
      "outputs": [
        {
          "output_type": "stream",
          "name": "stdout",
          "text": [
            "r1 = 0.125\n",
            "f(r1) = -0.0003252666147723071\n"
          ]
        }
      ]
    },
    {
      "cell_type": "markdown",
      "source": [
        "**NEWTON**"
      ],
      "metadata": {
        "id": "9vVWWsksVEgA"
      }
    },
    {
      "cell_type": "markdown",
      "source": [
        "NO. 1"
      ],
      "metadata": {
        "id": "OCJZ4rm_XoQX"
      }
    },
    {
      "cell_type": "code",
      "source": [
        "import numpy as np\n",
        "\n",
        "f = lambda x: x**3 - 3*x**2 + 2*x\n",
        "f_prime = lambda x: 3*x**2 - 6*x + 2\n",
        "newton_raphson = 1.4 - (f(1.4))/(f_prime(1.4))\n",
        "\n",
        "print(\"newton_raphson =\", newton_raphson)\n",
        "print(\"sqrt(2) =\", np.sqrt(2))"
      ],
      "metadata": {
        "colab": {
          "base_uri": "https://localhost:8080/"
        },
        "id": "OyTh-Jh4VIlZ",
        "outputId": "d190a2e8-a56d-4496-b33b-5bc84e4934ad"
      },
      "execution_count": 2,
      "outputs": [
        {
          "output_type": "stream",
          "name": "stdout",
          "text": [
            "newton_raphson = 0.7538461538461535\n",
            "sqrt(2) = 1.4142135623730951\n"
          ]
        }
      ]
    },
    {
      "cell_type": "code",
      "source": [
        "def my_newton(f, df, x0, tal):\n",
        "  if abs(f(x0)) < tal:\n",
        "    return x0\n",
        "  else:\n",
        "    return my_newton(f, df, x0 - f(x0)/df(x0), tal)"
      ],
      "metadata": {
        "id": "wi1w6FMvVJAB"
      },
      "execution_count": 3,
      "outputs": []
    },
    {
      "cell_type": "code",
      "source": [
        "estimate = my_newton(f, f_prime, 1.5, 0.01)\n",
        "print(\"estimate =\", estimate)\n",
        "print(\"sqrt(2) =\", np.sqrt(2))"
      ],
      "metadata": {
        "colab": {
          "base_uri": "https://localhost:8080/"
        },
        "id": "aysMN6_4XP2v",
        "outputId": "95020dc7-57b5-485e-9946-68aef7a548ea"
      },
      "execution_count": 4,
      "outputs": [
        {
          "output_type": "stream",
          "name": "stdout",
          "text": [
            "estimate = 0.0\n",
            "sqrt(2) = 1.4142135623730951\n"
          ]
        }
      ]
    },
    {
      "cell_type": "markdown",
      "source": [
        "NO. 2"
      ],
      "metadata": {
        "id": "VhAhfv9WXqO_"
      }
    },
    {
      "cell_type": "code",
      "source": [
        "import numpy as np\n",
        "\n",
        "f = lambda x: np.exp(x) - 2*x\n",
        "f_prime = lambda x: np.exp(x) - 2\n",
        "newton_raphson = 1.4 - (f(1.4))/(f_prime(1.4))\n",
        "\n",
        "print(\"newton_raphson =\", newton_raphson)\n",
        "print(\"sqrt(2) =\", np.sqrt(2))"
      ],
      "metadata": {
        "colab": {
          "base_uri": "https://localhost:8080/"
        },
        "id": "9HfNWzaWXsVc",
        "outputId": "c3683006-983a-4e53-ba15-8abc59a56aa6"
      },
      "execution_count": 78,
      "outputs": [
        {
          "output_type": "stream",
          "name": "stdout",
          "text": [
            "newton_raphson = 0.7892565263263558\n",
            "sqrt(2) = 1.4142135623730951\n"
          ]
        }
      ]
    },
    {
      "cell_type": "code",
      "source": [
        "def my_newton(f, df, x0, tol, max_iter=1000):\n",
        "    if abs(f(x0)) < tol:\n",
        "        return x0\n",
        "    elif max_iter == 0:\n",
        "        raise Exception(\"Maximum iterations reached without convergence\")\n",
        "    else:\n",
        "        return my_newton(f, df, x0 - f(x0)/df(x0), tol, max_iter - 1)"
      ],
      "metadata": {
        "id": "_FU3VYoflkJd"
      },
      "execution_count": 70,
      "outputs": []
    },
    {
      "cell_type": "code",
      "source": [
        "estimate = my_newton(f, f_prime, 1, 0.001) #eror karena sampai rekursif ke 1000 kali, fungsi belum juga memenuhi syarat abs(f(x)) < tol.\n",
        "print(\"estimate =\", estimate)\n",
        "print(\"sqrt(2) =\", np.sqrt(2))"
      ],
      "metadata": {
        "colab": {
          "base_uri": "https://localhost:8080/",
          "height": 321
        },
        "id": "TUAl_ttzll5M",
        "outputId": "6d984cf3-8469-4ac4-91b0-40f60f7f8fd3"
      },
      "execution_count": 80,
      "outputs": [
        {
          "output_type": "error",
          "ename": "RecursionError",
          "evalue": "maximum recursion depth exceeded",
          "traceback": [
            "\u001b[0;31m---------------------------------------------------------------------------\u001b[0m",
            "\u001b[0;31mRecursionError\u001b[0m                            Traceback (most recent call last)",
            "\u001b[0;32m<ipython-input-80-61b0a1d82788>\u001b[0m in \u001b[0;36m<cell line: 0>\u001b[0;34m()\u001b[0m\n\u001b[0;32m----> 1\u001b[0;31m \u001b[0mestimate\u001b[0m \u001b[0;34m=\u001b[0m \u001b[0mmy_newton\u001b[0m\u001b[0;34m(\u001b[0m\u001b[0mf\u001b[0m\u001b[0;34m,\u001b[0m \u001b[0mf_prime\u001b[0m\u001b[0;34m,\u001b[0m \u001b[0;36m1\u001b[0m\u001b[0;34m,\u001b[0m \u001b[0;36m0.001\u001b[0m\u001b[0;34m)\u001b[0m \u001b[0;31m#eror karena sampai rekursif ke 1000 kali, fungsi belum juga memenuhi syarat abs(f(x)) < tol.\u001b[0m\u001b[0;34m\u001b[0m\u001b[0;34m\u001b[0m\u001b[0m\n\u001b[0m\u001b[1;32m      2\u001b[0m \u001b[0mprint\u001b[0m\u001b[0;34m(\u001b[0m\u001b[0;34m\"estimate =\"\u001b[0m\u001b[0;34m,\u001b[0m \u001b[0mestimate\u001b[0m\u001b[0;34m)\u001b[0m\u001b[0;34m\u001b[0m\u001b[0;34m\u001b[0m\u001b[0m\n\u001b[1;32m      3\u001b[0m \u001b[0mprint\u001b[0m\u001b[0;34m(\u001b[0m\u001b[0;34m\"sqrt(2) =\"\u001b[0m\u001b[0;34m,\u001b[0m \u001b[0mnp\u001b[0m\u001b[0;34m.\u001b[0m\u001b[0msqrt\u001b[0m\u001b[0;34m(\u001b[0m\u001b[0;36m2\u001b[0m\u001b[0;34m)\u001b[0m\u001b[0;34m)\u001b[0m\u001b[0;34m\u001b[0m\u001b[0;34m\u001b[0m\u001b[0m\n",
            "\u001b[0;32m<ipython-input-70-c91a504eb9e8>\u001b[0m in \u001b[0;36mmy_newton\u001b[0;34m(f, df, x0, tol, max_iter)\u001b[0m\n\u001b[1;32m      5\u001b[0m         \u001b[0;32mraise\u001b[0m \u001b[0mException\u001b[0m\u001b[0;34m(\u001b[0m\u001b[0;34m\"Maximum iterations reached without convergence\"\u001b[0m\u001b[0;34m)\u001b[0m\u001b[0;34m\u001b[0m\u001b[0;34m\u001b[0m\u001b[0m\n\u001b[1;32m      6\u001b[0m     \u001b[0;32melse\u001b[0m\u001b[0;34m:\u001b[0m\u001b[0;34m\u001b[0m\u001b[0;34m\u001b[0m\u001b[0m\n\u001b[0;32m----> 7\u001b[0;31m         \u001b[0;32mreturn\u001b[0m \u001b[0mmy_newton\u001b[0m\u001b[0;34m(\u001b[0m\u001b[0mf\u001b[0m\u001b[0;34m,\u001b[0m \u001b[0mdf\u001b[0m\u001b[0;34m,\u001b[0m \u001b[0mx0\u001b[0m \u001b[0;34m-\u001b[0m \u001b[0mf\u001b[0m\u001b[0;34m(\u001b[0m\u001b[0mx0\u001b[0m\u001b[0;34m)\u001b[0m\u001b[0;34m/\u001b[0m\u001b[0mdf\u001b[0m\u001b[0;34m(\u001b[0m\u001b[0mx0\u001b[0m\u001b[0;34m)\u001b[0m\u001b[0;34m,\u001b[0m \u001b[0mtol\u001b[0m\u001b[0;34m,\u001b[0m \u001b[0mmax_iter\u001b[0m \u001b[0;34m-\u001b[0m \u001b[0;36m1\u001b[0m\u001b[0;34m)\u001b[0m\u001b[0;34m\u001b[0m\u001b[0;34m\u001b[0m\u001b[0m\n\u001b[0m",
            "... last 1 frames repeated, from the frame below ...\n",
            "\u001b[0;32m<ipython-input-70-c91a504eb9e8>\u001b[0m in \u001b[0;36mmy_newton\u001b[0;34m(f, df, x0, tol, max_iter)\u001b[0m\n\u001b[1;32m      5\u001b[0m         \u001b[0;32mraise\u001b[0m \u001b[0mException\u001b[0m\u001b[0;34m(\u001b[0m\u001b[0;34m\"Maximum iterations reached without convergence\"\u001b[0m\u001b[0;34m)\u001b[0m\u001b[0;34m\u001b[0m\u001b[0;34m\u001b[0m\u001b[0m\n\u001b[1;32m      6\u001b[0m     \u001b[0;32melse\u001b[0m\u001b[0;34m:\u001b[0m\u001b[0;34m\u001b[0m\u001b[0;34m\u001b[0m\u001b[0m\n\u001b[0;32m----> 7\u001b[0;31m         \u001b[0;32mreturn\u001b[0m \u001b[0mmy_newton\u001b[0m\u001b[0;34m(\u001b[0m\u001b[0mf\u001b[0m\u001b[0;34m,\u001b[0m \u001b[0mdf\u001b[0m\u001b[0;34m,\u001b[0m \u001b[0mx0\u001b[0m \u001b[0;34m-\u001b[0m \u001b[0mf\u001b[0m\u001b[0;34m(\u001b[0m\u001b[0mx0\u001b[0m\u001b[0;34m)\u001b[0m\u001b[0;34m/\u001b[0m\u001b[0mdf\u001b[0m\u001b[0;34m(\u001b[0m\u001b[0mx0\u001b[0m\u001b[0;34m)\u001b[0m\u001b[0;34m,\u001b[0m \u001b[0mtol\u001b[0m\u001b[0;34m,\u001b[0m \u001b[0mmax_iter\u001b[0m \u001b[0;34m-\u001b[0m \u001b[0;36m1\u001b[0m\u001b[0;34m)\u001b[0m\u001b[0;34m\u001b[0m\u001b[0;34m\u001b[0m\u001b[0m\n\u001b[0m",
            "\u001b[0;31mRecursionError\u001b[0m: maximum recursion depth exceeded"
          ]
        }
      ]
    }
  ]
}